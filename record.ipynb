{
 "cells": [
  {
   "cell_type": "code",
   "execution_count": 41,
   "metadata": {},
   "outputs": [
    {
     "name": "stdout",
     "output_type": "stream",
     "text": [
      "Speak the sentence below: \n",
      "---------------------------------------------\n",
      "Hello World\n",
      "\n",
      "---------------------------------------------\n",
      "#############################################\n",
      "Please press SPACE to start recording!\n",
      "###########################\n",
      "#####################\n",
      "################\n",
      "##########\n",
      "######\n",
      "Recording...\n",
      "Done recording  !\n"
     ]
    }
   ],
   "source": [
    "import librosa\n",
    "import soundfile as sf\n",
    "import sounddevice as sd\n",
    "import time\n",
    "import keyboard    \n",
    "def sync_record(filename, duration, fs, channels):\n",
    " print('Recording...')\n",
    " myrecording = sd.rec(int(duration * fs), samplerate=fs, channels=channels)\n",
    " sd.wait()\n",
    " sf.write(filename, myrecording, fs)\n",
    " print('Done recording  !')\n",
    "\n",
    "f = open(\"demo.txt\", \"r\")\n",
    "print(\"Speak the sentence below: \")\n",
    "print(\"---------------------------------------------\")\n",
    "print(f.read())\n",
    "print(\"---------------------------------------------\")\n",
    "\n",
    "print('#############################################')\n",
    "print('Please press SPACE to start recording!')\n",
    "print('###########################')\n",
    "print('#####################')\n",
    "print('################')\n",
    "print('##########') \n",
    "print('######')\n",
    "\n",
    "while True:  # making a loop\n",
    "    try:  # used try so that if user pressed other than the given key error will not be shown\n",
    "        if keyboard.is_pressed('space'):  # if key 'q' is pressed \n",
    "            sync_record('record_data/Tâm sự/record2.wav', 15, 16000, 1) \n",
    "            break  # finishing the loop\n",
    "    except:\n",
    "        break  # if user pressed a key other than the given key the loop will break\n",
    "        "
   ]
  },
  {
   "cell_type": "code",
   "execution_count": null,
   "metadata": {},
   "outputs": [],
   "source": []
  },
  {
   "cell_type": "code",
   "execution_count": null,
   "metadata": {},
   "outputs": [],
   "source": []
  },
  {
   "cell_type": "code",
   "execution_count": null,
   "metadata": {},
   "outputs": [],
   "source": []
  },
  {
   "cell_type": "code",
   "execution_count": null,
   "metadata": {},
   "outputs": [],
   "source": []
  },
  {
   "cell_type": "code",
   "execution_count": null,
   "metadata": {},
   "outputs": [],
   "source": []
  },
  {
   "cell_type": "code",
   "execution_count": null,
   "metadata": {},
   "outputs": [],
   "source": []
  },
  {
   "cell_type": "code",
   "execution_count": null,
   "metadata": {},
   "outputs": [],
   "source": [
    "\n"
   ]
  },
  {
   "cell_type": "code",
   "execution_count": null,
   "metadata": {},
   "outputs": [],
   "source": []
  },
  {
   "cell_type": "code",
   "execution_count": null,
   "metadata": {},
   "outputs": [],
   "source": []
  },
  {
   "cell_type": "code",
   "execution_count": null,
   "metadata": {},
   "outputs": [],
   "source": []
  }
 ],
 "metadata": {
  "kernelspec": {
   "display_name": "Python 3",
   "language": "python",
   "name": "python3"
  },
  "language_info": {
   "codemirror_mode": {
    "name": "ipython",
    "version": 3
   },
   "file_extension": ".py",
   "mimetype": "text/x-python",
   "name": "python",
   "nbconvert_exporter": "python",
   "pygments_lexer": "ipython3",
   "version": "3.7.6"
  }
 },
 "nbformat": 4,
 "nbformat_minor": 4
}
